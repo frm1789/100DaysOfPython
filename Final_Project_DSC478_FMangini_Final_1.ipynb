{
  "cells": [
    {
      "cell_type": "markdown",
      "metadata": {
        "id": "view-in-github",
        "colab_type": "text"
      },
      "source": []
    },
    {
      "cell_type": "code",
      "source": [
        "import warnings\n",
        "warnings.filterwarnings('ignore')"
      ],
      "metadata": {
        "id": "hrQs6DhiAWAQ"
      },
      "execution_count": 140,
      "outputs": []
    },
    {
      "cell_type": "code",
      "execution_count": null,
      "metadata": {
        "id": "TUBQoEfc5DyZ"
      },
      "outputs": [],
      "source": [
        "\n",
        "import pandas as pd\n",
        "import seaborn as sns\n",
        "import numpy as np\n",
        "import matplotlib.pyplot as plt"
      ]
    },
    {
      "cell_type": "code",
      "execution_count": null,
      "metadata": {
        "id": "HNIiMBbOdkk-"
      },
      "outputs": [],
      "source": [
        "\n",
        "from sklearn.decomposition import PCA\n",
        "from sklearn.linear_model import LogisticRegression, LinearRegression, Lasso, Ridge\n",
        "from sklearn.metrics import accuracy_score, mean_squared_error\n",
        "from sklearn.model_selection import train_test_split\n",
        "from sklearn.preprocessing import StandardScaler\n",
        "\n",
        "from sklearn.metrics import accuracy_score,confusion_matrix,classification_report"
      ]
    },
    {
      "cell_type": "code",
      "execution_count": null,
      "metadata": {
        "id": "_RVRSlL25Dyf"
      },
      "outputs": [],
      "source": [
        "df = pd.read_csv('/content/hotel_bookings.csv',sep=',')\n",
        "df = pd.DataFrame(df)"
      ]
    },
    {
      "cell_type": "markdown",
      "metadata": {
        "id": "J8Yroeo15Dyh"
      },
      "source": [
        "## Missing values "
      ]
    },
    {
      "cell_type": "code",
      "execution_count": null,
      "metadata": {
        "colab": {
          "base_uri": "https://localhost:8080/"
        },
        "id": "9efN8MgE5Dyk",
        "outputId": "64a4adb3-c4e5-4d9c-e662-e89d5e3fdfb3"
      },
      "outputs": [
        {
          "output_type": "execute_result",
          "data": {
            "text/plain": [
              "hotel                                  0\n",
              "is_canceled                            0\n",
              "lead_time                              0\n",
              "arrival_date_year                      0\n",
              "arrival_date_month                     0\n",
              "arrival_date_week_number               0\n",
              "arrival_date_day_of_month              0\n",
              "stays_in_weekend_nights                0\n",
              "stays_in_week_nights                   0\n",
              "adults                                 0\n",
              "children                               4\n",
              "babies                                 0\n",
              "meal                                   0\n",
              "country                              488\n",
              "market_segment                         0\n",
              "distribution_channel                   0\n",
              "is_repeated_guest                      0\n",
              "previous_cancellations                 0\n",
              "previous_bookings_not_canceled         0\n",
              "reserved_room_type                     0\n",
              "assigned_room_type                     0\n",
              "booking_changes                        0\n",
              "deposit_type                           0\n",
              "agent                              16340\n",
              "company                           112593\n",
              "days_in_waiting_list                   0\n",
              "customer_type                          0\n",
              "adr                                    0\n",
              "required_car_parking_spaces            0\n",
              "total_of_special_requests              0\n",
              "reservation_status                     0\n",
              "reservation_status_date                0\n",
              "dtype: int64"
            ]
          },
          "metadata": {},
          "execution_count": 50
        }
      ],
      "source": [
        "df.isnull().sum()"
      ]
    },
    {
      "cell_type": "markdown",
      "metadata": {
        "id": "3cOOSGtrWWiv"
      },
      "source": [
        "Features agent and company have a high amount of null values, therefore both features were eliminated."
      ]
    },
    {
      "cell_type": "code",
      "execution_count": null,
      "metadata": {
        "id": "5yAYnQ6x5Dyn"
      },
      "outputs": [],
      "source": [
        "df = df.drop('company', axis=1)\n",
        "df = df.drop('agent', axis=1)\n"
      ]
    },
    {
      "cell_type": "markdown",
      "metadata": {
        "id": "lSNTOckAWzFP"
      },
      "source": [
        "Related to the 488 null values for country, those rows were eliminated."
      ]
    },
    {
      "cell_type": "code",
      "execution_count": null,
      "metadata": {
        "colab": {
          "base_uri": "https://localhost:8080/"
        },
        "id": "g-Injs_J5Dym",
        "outputId": "148afb63-df2e-4c24-becc-4e36b3dcb8ce"
      },
      "outputs": [
        {
          "output_type": "stream",
          "name": "stdout",
          "text": [
            "country: 0.004087444509590418\n"
          ]
        }
      ],
      "source": [
        "print('country:', (df['country'].isnull().sum()/df.shape[0]))\n"
      ]
    },
    {
      "cell_type": "code",
      "execution_count": null,
      "metadata": {
        "id": "eT62Tt-_XGmP"
      },
      "outputs": [],
      "source": [
        "df = df[df['country'].notnull()]\n"
      ]
    },
    {
      "cell_type": "markdown",
      "metadata": {
        "id": "YMWqg0dDXKlS"
      },
      "source": [
        "Columns Adults, children and babies were unified in one column: families. Understanding that the behavior of passagers with children could be different that the behavoir of adults that can be travelling for business."
      ]
    },
    {
      "cell_type": "code",
      "execution_count": null,
      "metadata": {
        "id": "lOq31Ylf5Dyp"
      },
      "outputs": [],
      "source": [
        "df.loc[:, 'families'] = 0  # Initialize all values to 0\n",
        "df.loc[(df['children'] != 0) | (df['babies'] != 0), 'families'] = 1"
      ]
    },
    {
      "cell_type": "code",
      "execution_count": null,
      "metadata": {
        "id": "sy6lf_YS5Dyu"
      },
      "outputs": [],
      "source": [
        "df = df.drop('children', axis =1 )\n",
        "df = df.drop('babies', axis =1 )"
      ]
    },
    {
      "cell_type": "markdown",
      "metadata": {
        "id": "anxpvaeSX9-S"
      },
      "source": [
        "## Transform features to numeric."
      ]
    },
    {
      "cell_type": "code",
      "execution_count": null,
      "metadata": {
        "id": "9ah0pFtc5Dyz"
      },
      "outputs": [],
      "source": [
        "df['hotel'] = np.where(df['hotel'] == 'Resort Hotel', 1, 2)\n"
      ]
    },
    {
      "cell_type": "code",
      "execution_count": null,
      "metadata": {
        "id": "SdOv6p015Dy0"
      },
      "outputs": [],
      "source": [
        "month_mapping = {\n",
        "    'January': 1,\n",
        "    'February': 2,\n",
        "    'March': 3,\n",
        "    'April': 4,\n",
        "    'May': 5,\n",
        "    'June': 6,\n",
        "    'July': 7,\n",
        "    'August': 8,\n",
        "    'September': 9,\n",
        "    'October': 10,\n",
        "    'November': 11,\n",
        "    'December': 12\n",
        "}\n",
        "\n",
        "df['arrival_date_month'] = df['arrival_date_month'].map(month_mapping).fillna(0).astype(int)\n"
      ]
    },
    {
      "cell_type": "code",
      "execution_count": null,
      "metadata": {
        "id": "nQn92aEi5Dy3"
      },
      "outputs": [],
      "source": [
        "df['customer_type'], _ = pd.factorize(df['customer_type'])\n",
        "df['market_segment'], _ = pd.factorize(df['market_segment'])\n",
        "df['distribution_channel'], _ = pd.factorize(df['distribution_channel'])\n",
        "df['reservation_status'], _ = pd.factorize(df['reservation_status'])\n",
        "\n"
      ]
    },
    {
      "cell_type": "code",
      "execution_count": null,
      "metadata": {
        "id": "1tghzwNd5Dy4"
      },
      "outputs": [],
      "source": [
        "df['deposit_type'], _ = pd.factorize(df['deposit_type'])"
      ]
    },
    {
      "cell_type": "code",
      "execution_count": null,
      "metadata": {
        "id": "rEfwG7sK5Dy5"
      },
      "outputs": [],
      "source": [
        "df['meal'], _ = pd.factorize(df['meal'])"
      ]
    },
    {
      "cell_type": "markdown",
      "metadata": {
        "id": "F2MxltFvdbrY"
      },
      "source": [
        "#### Checking if there is any feature with null values."
      ]
    },
    {
      "cell_type": "code",
      "execution_count": null,
      "metadata": {
        "colab": {
          "base_uri": "https://localhost:8080/"
        },
        "id": "7S0zyEoH5DzH",
        "outputId": "77d6f21c-a08d-4ac0-8966-473fd6f15fc9"
      },
      "outputs": [
        {
          "output_type": "stream",
          "name": "stdout",
          "text": [
            "[]\n"
          ]
        }
      ],
      "source": [
        "nan_columns = df.columns[df.isna().any()].tolist()\n",
        "print(nan_columns)"
      ]
    },
    {
      "cell_type": "markdown",
      "metadata": {
        "id": "JlA_ngdfYIVp"
      },
      "source": [
        "#### Remotion of features with low correlation to the target variable"
      ]
    },
    {
      "cell_type": "code",
      "execution_count": null,
      "metadata": {
        "id": "DTF1FKC15Dy6"
      },
      "outputs": [],
      "source": [
        "df = df.drop('reserved_room_type', axis=1)\n",
        "df = df.drop('assigned_room_type', axis=1)\n",
        "df = df.drop('reservation_status_date', axis=1)\n",
        "df = df.drop('required_car_parking_spaces', axis=1)\n",
        "df = df.drop('total_of_special_requests', axis=1)"
      ]
    },
    {
      "cell_type": "markdown",
      "metadata": {
        "id": "USnFqM7P5Dy8"
      },
      "source": [
        "#### Outliers detection"
      ]
    },
    {
      "cell_type": "markdown",
      "metadata": {
        "id": "YGzaD7jJ5Dy8"
      },
      "source": [
        "Some features ADR and days in waiting presents outliers. Those rows were eliminated, since in both cases are numbers that no represent any real value and there are more likely a typo error.\n",
        "\n",
        "https://stackoverflow.com/questions/65955377/removing-outliers-from-numerical-features"
      ]
    },
    {
      "cell_type": "code",
      "execution_count": null,
      "metadata": {
        "colab": {
          "base_uri": "https://localhost:8080/"
        },
        "id": "W6kyK4_05Dy9",
        "outputId": "6e960024-880d-4f12-9e8c-d039bdb2fbee"
      },
      "outputs": [
        {
          "output_type": "execute_result",
          "data": {
            "text/plain": [
              "['hotel',\n",
              " 'is_canceled',\n",
              " 'lead_time',\n",
              " 'arrival_date_year',\n",
              " 'arrival_date_month',\n",
              " 'arrival_date_week_number',\n",
              " 'arrival_date_day_of_month',\n",
              " 'stays_in_weekend_nights',\n",
              " 'stays_in_week_nights',\n",
              " 'adults',\n",
              " 'meal',\n",
              " 'market_segment',\n",
              " 'distribution_channel',\n",
              " 'is_repeated_guest',\n",
              " 'previous_cancellations',\n",
              " 'previous_bookings_not_canceled',\n",
              " 'booking_changes',\n",
              " 'deposit_type',\n",
              " 'days_in_waiting_list',\n",
              " 'customer_type',\n",
              " 'adr',\n",
              " 'reservation_status',\n",
              " 'families']"
            ]
          },
          "metadata": {},
          "execution_count": 63
        }
      ],
      "source": [
        "df.select_dtypes(include=['int64','float64']).columns.tolist()"
      ]
    },
    {
      "cell_type": "code",
      "execution_count": null,
      "metadata": {
        "colab": {
          "base_uri": "https://localhost:8080/"
        },
        "id": "MEAO0ROi5Dy_",
        "outputId": "5b11a8b9-cee5-4483-a48c-00745c844c38"
      },
      "outputs": [
        {
          "output_type": "stream",
          "name": "stdout",
          "text": [
            "Number of rows before discarding outlier = 118902\n",
            "Number of rows after discarding outlier = 115898\n"
          ]
        }
      ],
      "source": [
        "numerical_columns = ['adr','days_in_waiting_list']\n",
        "\n",
        "print('Number of rows before discarding outlier = %d' % (df.shape[0]))\n",
        "\n",
        "for i in numerical_columns: \n",
        "    q1 = df[i].quantile(0.25)\n",
        "    q3 = df[i].quantile(0.75)\n",
        "    iqr = q3-q1 #Interquartile range\n",
        "    fence_low  = q1-1.5*iqr\n",
        "    fence_high = q3+1.5*iqr\n",
        "    df = df[np.abs(df[i]-df[i].mean()) <= (3*df[i].std())]\n",
        "\n",
        "print('Number of rows after discarding outlier = %d' % (df.shape[0]))\n",
        "\n"
      ]
    },
    {
      "cell_type": "code",
      "execution_count": 112,
      "metadata": {
        "colab": {
          "base_uri": "https://localhost:8080/",
          "height": 472
        },
        "id": "3wgblsmG5DzA",
        "outputId": "395b10b8-362f-42a1-b49b-8d5543d83cce"
      },
      "outputs": [
        {
          "output_type": "display_data",
          "data": {
            "text/plain": [
              "<Figure size 640x480 with 1 Axes>"
            ],
            "image/png": "[encoded data removed]"
          },
          "metadata": {}
        }
      ],
      "source": [
        "sns.countplot(data=df.replace({'hotel': {1: 'Resort', 2: 'City Hotel'}}), x='arrival_date_year', hue='hotel', palette='viridis')\n",
        "plt.title('Number of hotel guests by year')\n",
        "plt.legend(title='Hotel Type', loc='upper right')\n",
        "plt.show()\n"
      ]
    },
    {
      "cell_type": "code",
      "execution_count": 111,
      "metadata": {
        "colab": {
          "base_uri": "https://localhost:8080/",
          "height": 527
        },
        "id": "KVdwwyYm5DzE",
        "outputId": "f0c5ca76-0b96-4eb7-aa21-38b9852ab5e7"
      },
      "outputs": [
        {
          "output_type": "display_data",
          "data": {
            "text/plain": [
              "<Figure size 558.875x500 with 1 Axes>"
            ],
            "image/png": "[encoded data removed]"
          },
          "metadata": {}
        }
      ],
      "source": [
        "sns.catplot(x=\"arrival_date_month\", y=\"adr\", hue = \"hotel\", data=df, kind=\"point\", palette='viridis')\n",
        "plt.title('Average Daily Rate Profit per Month')\n",
        "\n",
        "plt.show()"
      ]
    },
    {
      "cell_type": "markdown",
      "metadata": {
        "id": "VKnePqjzZ1OM"
      },
      "source": [
        "#### Domain knowledge binning on Country Feature. \n"
      ]
    },
    {
      "cell_type": "code",
      "execution_count": null,
      "metadata": {
        "colab": {
          "base_uri": "https://localhost:8080/"
        },
        "id": "O4LJ2u-dR2Qd",
        "outputId": "ce2db407-71b3-4a0b-e3dc-f1f06bd3d874"
      },
      "outputs": [
        {
          "output_type": "execute_result",
          "data": {
            "text/plain": [
              "175"
            ]
          },
          "metadata": {},
          "execution_count": 68
        }
      ],
      "source": [
        "country = pd.DataFrame(df['country'].value_counts())\n",
        "len(country)"
      ]
    },
    {
      "cell_type": "code",
      "execution_count": null,
      "metadata": {
        "colab": {
          "base_uri": "https://localhost:8080/",
          "height": 608
        },
        "id": "Qk80FcTE5DzE",
        "outputId": "f56810a3-f0fa-4cbb-923b-beaac0b81edb"
      },
      "outputs": [
        {
          "output_type": "display_data",
          "data": {
            "text/plain": [
              "<Figure size 1200x800 with 1 Axes>"
            ],
            "image/png": "[encoded data removed]"
          },
          "metadata": {}
        }
      ],
      "source": [
        "country = pd.DataFrame(df['country'].value_counts())\n",
        "top_20_countries = country.head(20)\n",
        "top_20_countries = top_20_countries.reset_index()\n",
        "\n",
        "top_20_countries.columns = ['Country', 'Count']\n",
        "plt.figure(figsize=(12, 8))\n",
        "sns.barplot(x='Count', y='Country', data=top_20_countries, palette='viridis')\n",
        "plt.xlabel('Count')\n",
        "plt.ylabel('Country')\n",
        "plt.title('Top 20 Countries')\n",
        "plt.show()"
      ]
    },
    {
      "cell_type": "code",
      "execution_count": null,
      "metadata": {
        "id": "gt_7lN165DzG"
      },
      "outputs": [],
      "source": [
        "def categorize_country(country_code):\n",
        "    if country_code == 'PRT':\n",
        "        return 1  # Portugal\n",
        "    elif country_code in ['DEU', 'FRA', 'ESP', 'ITA', 'GBR', 'ITA', 'IRL', 'BEL', 'NDL', 'CHE', 'CN', 'AUS', 'SWE', 'POL', 'NOR']:  # European countries excluding Portugal\n",
        "        return 2  # Europe\n",
        "    elif country_code == 'USA':\n",
        "        return 3  # USA\n",
        "    elif country_code == 'JPN':\n",
        "        return 4  # Japan\n",
        "    elif country_code == 'BRA':\n",
        "        return 5  # Brazil\n",
        "    elif country_code == 'CHN':\n",
        "        return 6  # China\n",
        "    else:\n",
        "        return 7  # Rest\n",
        "\n",
        "\n",
        "df['country'] = df['country'].apply(categorize_country)\n",
        "\n"
      ]
    },
    {
      "cell_type": "code",
      "execution_count": null,
      "metadata": {
        "id": "UaUiDXVKauBh"
      },
      "outputs": [],
      "source": [
        "country_code_specif = ['Portugal', 'Europe', 'USA', 'Japan', 'Brazil', 'China', 'Rest']"
      ]
    },
    {
      "cell_type": "code",
      "execution_count": null,
      "metadata": {
        "colab": {
          "base_uri": "https://localhost:8080/"
        },
        "id": "fVopdr-75DzG",
        "outputId": "cb27399c-de17-44ed-c1cf-c6633992e595"
      },
      "outputs": [
        {
          "output_type": "stream",
          "name": "stdout",
          "text": [
            "   country\n",
            "2    52993\n",
            "1    46836\n",
            "7    10641\n",
            "5     2203\n",
            "3     2034\n",
            "6      995\n",
            "4      196\n"
          ]
        }
      ],
      "source": [
        "country_mapping = {1: 'Portugal', 2: 'Europe', 3: 'USA', 4: 'Japan', 5: 'Brazil', 6: 'China', 7: 'Rest'}\n",
        "\n",
        "country_counts = pd.DataFrame(df['country'].value_counts())\n",
        "print(country_counts)\n"
      ]
    },
    {
      "cell_type": "code",
      "execution_count": null,
      "metadata": {
        "id": "Vg_lv360c-Zu"
      },
      "outputs": [],
      "source": [
        "country_counts = country_counts.reset_index()\n",
        "country_counts['index'] = country_counts['index'].map(country_mapping)\n",
        "\n",
        "\n"
      ]
    },
    {
      "cell_type": "code",
      "execution_count": null,
      "metadata": {
        "colab": {
          "base_uri": "https://localhost:8080/",
          "height": 564
        },
        "id": "6U9QAcklc5m4",
        "outputId": "d34a701a-5d6c-4fa9-ead7-f71d29ae0735"
      },
      "outputs": [
        {
          "output_type": "display_data",
          "data": {
            "text/plain": [
              "<Figure size 800x600 with 1 Axes>"
            ],
            "image/png": "[encoded data removed]"
          },
          "metadata": {}
        }
      ],
      "source": [
        "country_counts.columns = ['Country', 'Count']\n",
        "\n",
        "plt.figure(figsize=(8, 6))\n",
        "sns.barplot(x='Count', y='Country', data=country_counts, palette='viridis')\n",
        "plt.xlabel('Count')\n",
        "plt.ylabel('Country')\n",
        "plt.title('Total visits by Category')\n",
        "plt.show()\n"
      ]
    },
    {
      "cell_type": "markdown",
      "metadata": {
        "id": "JDKZre81BJ_C"
      },
      "source": [
        "### Analysis on correlations "
      ]
    },
    {
      "cell_type": "code",
      "execution_count": null,
      "metadata": {
        "colab": {
          "base_uri": "https://localhost:8080/"
        },
        "id": "7GzUJXhaBQDO",
        "outputId": "38fdc738-1f2a-4738-d0ae-acd2455c6ea9"
      },
      "outputs": [
        {
          "output_type": "execute_result",
          "data": {
            "text/plain": [
              "reservation_status                98.0\n",
              "deposit_type                      48.0\n",
              "lead_time                         29.0\n",
              "market_segment                    24.0\n",
              "distribution_channel              17.0\n",
              "country                           14.0\n",
              "booking_changes                   14.0\n",
              "hotel                             13.0\n",
              "customer_type                     13.0\n",
              "previous_cancellations            11.0\n",
              "days_in_waiting_list              10.0\n",
              "is_repeated_guest                  9.0\n",
              "adults                             6.0\n",
              "previous_bookings_not_canceled     6.0\n",
              "adr                                5.0\n",
              "stays_in_week_nights               2.0\n",
              "meal                               2.0\n",
              "arrival_date_year                  2.0\n",
              "families                           1.0\n",
              "arrival_date_month                 1.0\n",
              "arrival_date_week_number           1.0\n",
              "stays_in_weekend_nights            0.0\n",
              "arrival_date_day_of_month          0.0\n",
              "Name: is_canceled, dtype: float64"
            ]
          },
          "metadata": {},
          "execution_count": 75
        }
      ],
      "source": [
        "correlation_cancelled = df.corr()['is_canceled']\n",
        "correlation_cancelled.abs().sort_values(ascending=False)[1:].round(2)*100"
      ]
    },
    {
      "cell_type": "markdown",
      "metadata": {
        "id": "sK30AT4wBS4M"
      },
      "source": [
        "\n",
        "\n",
        "Due to the incredible correlation between reservation_status and is_canceled, reservation status will be droped.\n"
      ]
    },
    {
      "cell_type": "code",
      "execution_count": null,
      "metadata": {
        "id": "MMFQu6BYBTpR"
      },
      "outputs": [],
      "source": [
        "df = df.drop('reservation_status', axis=1)"
      ]
    },
    {
      "cell_type": "markdown",
      "metadata": {
        "id": "S5y1EVtiBdV2"
      },
      "source": [
        "### Duplication "
      ]
    },
    {
      "cell_type": "code",
      "execution_count": null,
      "metadata": {
        "colab": {
          "base_uri": "https://localhost:8080/",
          "height": 488
        },
        "id": "pGjPZ_TnBgX3",
        "outputId": "5edfdd76-7448-47e8-af08-e0e48aa9c11d"
      },
      "outputs": [
        {
          "output_type": "execute_result",
          "data": {
            "text/plain": [
              "        hotel  is_canceled  lead_time  arrival_date_year  arrival_date_month  \\\n",
              "0           1            0        342               2015                   7   \n",
              "1           1            0        737               2015                   7   \n",
              "2           1            0          7               2015                   7   \n",
              "3           1            0         13               2015                   7   \n",
              "4           1            0         14               2015                   7   \n",
              "...       ...          ...        ...                ...                 ...   \n",
              "119385      2            0         23               2017                   8   \n",
              "119386      2            0        102               2017                   8   \n",
              "119387      2            0         34               2017                   8   \n",
              "119388      2            0        109               2017                   8   \n",
              "119389      2            0        205               2017                   8   \n",
              "\n",
              "        arrival_date_week_number  arrival_date_day_of_month  \\\n",
              "0                             27                          1   \n",
              "1                             27                          1   \n",
              "2                             27                          1   \n",
              "3                             27                          1   \n",
              "4                             27                          1   \n",
              "...                          ...                        ...   \n",
              "119385                        35                         30   \n",
              "119386                        35                         31   \n",
              "119387                        35                         31   \n",
              "119388                        35                         31   \n",
              "119389                        35                         29   \n",
              "\n",
              "        stays_in_weekend_nights  stays_in_week_nights  adults  ...  \\\n",
              "0                             0                     0       2  ...   \n",
              "1                             0                     0       2  ...   \n",
              "2                             0                     1       1  ...   \n",
              "3                             0                     1       1  ...   \n",
              "4                             0                     2       2  ...   \n",
              "...                         ...                   ...     ...  ...   \n",
              "119385                        2                     5       2  ...   \n",
              "119386                        2                     5       3  ...   \n",
              "119387                        2                     5       2  ...   \n",
              "119388                        2                     5       2  ...   \n",
              "119389                        2                     7       2  ...   \n",
              "\n",
              "        distribution_channel  is_repeated_guest  previous_cancellations  \\\n",
              "0                          0                  0                       0   \n",
              "1                          0                  0                       0   \n",
              "2                          0                  0                       0   \n",
              "3                          1                  0                       0   \n",
              "4                          2                  0                       0   \n",
              "...                      ...                ...                     ...   \n",
              "119385                     2                  0                       0   \n",
              "119386                     2                  0                       0   \n",
              "119387                     2                  0                       0   \n",
              "119388                     2                  0                       0   \n",
              "119389                     2                  0                       0   \n",
              "\n",
              "        previous_bookings_not_canceled  booking_changes  deposit_type  \\\n",
              "0                                    0                3             0   \n",
              "1                                    0                4             0   \n",
              "2                                    0                0             0   \n",
              "3                                    0                0             0   \n",
              "4                                    0                0             0   \n",
              "...                                ...              ...           ...   \n",
              "119385                               0                0             0   \n",
              "119386                               0                0             0   \n",
              "119387                               0                0             0   \n",
              "119388                               0                0             0   \n",
              "119389                               0                0             0   \n",
              "\n",
              "        days_in_waiting_list  customer_type     adr  families  \n",
              "0                          0              0    0.00         0  \n",
              "1                          0              0    0.00         0  \n",
              "2                          0              0   75.00         0  \n",
              "3                          0              0   75.00         0  \n",
              "4                          0              0   98.00         0  \n",
              "...                      ...            ...     ...       ...  \n",
              "119385                     0              0   96.14         0  \n",
              "119386                     0              0  225.43         0  \n",
              "119387                     0              0  157.71         0  \n",
              "119388                     0              0  104.40         0  \n",
              "119389                     0              0  151.20         0  \n",
              "\n",
              "[82638 rows x 23 columns]"
            ],
            "text/html": [
              "\n",
              "  <div id=\"df-fea3ffeb-bc30-4d3c-a989-75c132581396\">\n",
              "    <div class=\"colab-df-container\">\n",
              "      <div>\n",
              "<style scoped>\n",
              "    .dataframe tbody tr th:only-of-type {\n",
              "        vertical-align: middle;\n",
              "    }\n",
              "\n",
              "    .dataframe tbody tr th {\n",
              "        vertical-align: top;\n",
              "    }\n",
              "\n",
              "    .dataframe thead th {\n",
              "        text-align: right;\n",
              "    }\n",
              "</style>\n",
              "<table border=\"1\" class=\"dataframe\">\n",
              "  <thead>\n",
              "    <tr style=\"text-align: right;\">\n",
              "      <th></th>\n",
              "      <th>hotel</th>\n",
              "      <th>is_canceled</th>\n",
              "      <th>lead_time</th>\n",
              "      <th>arrival_date_year</th>\n",
              "      <th>arrival_date_month</th>\n",
              "      <th>arrival_date_week_number</th>\n",
              "      <th>arrival_date_day_of_month</th>\n",
              "      <th>stays_in_weekend_nights</th>\n",
              "      <th>stays_in_week_nights</th>\n",
              "      <th>adults</th>\n",
              "      <th>...</th>\n",
              "      <th>distribution_channel</th>\n",
              "      <th>is_repeated_guest</th>\n",
              "      <th>previous_cancellations</th>\n",
              "      <th>previous_bookings_not_canceled</th>\n",
              "      <th>booking_changes</th>\n",
              "      <th>deposit_type</th>\n",
              "      <th>days_in_waiting_list</th>\n",
              "      <th>customer_type</th>\n",
              "      <th>adr</th>\n",
              "      <th>families</th>\n",
              "    </tr>\n",
              "  </thead>\n",
              "  <tbody>\n",
              "    <tr>\n",
              "      <th>0</th>\n",
              "      <td>1</td>\n",
              "      <td>0</td>\n",
              "      <td>342</td>\n",
              "      <td>2015</td>\n",
              "      <td>7</td>\n",
              "      <td>27</td>\n",
              "      <td>1</td>\n",
              "      <td>0</td>\n",
              "      <td>0</td>\n",
              "      <td>2</td>\n",
              "      <td>...</td>\n",
              "      <td>0</td>\n",
              "      <td>0</td>\n",
              "      <td>0</td>\n",
              "      <td>0</td>\n",
              "      <td>3</td>\n",
              "      <td>0</td>\n",
              "      <td>0</td>\n",
              "      <td>0</td>\n",
              "      <td>0.00</td>\n",
              "      <td>0</td>\n",
              "    </tr>\n",
              "    <tr>\n",
              "      <th>1</th>\n",
              "      <td>1</td>\n",
              "      <td>0</td>\n",
              "      <td>737</td>\n",
              "      <td>2015</td>\n",
              "      <td>7</td>\n",
              "      <td>27</td>\n",
              "      <td>1</td>\n",
              "      <td>0</td>\n",
              "      <td>0</td>\n",
              "      <td>2</td>\n",
              "      <td>...</td>\n",
              "      <td>0</td>\n",
              "      <td>0</td>\n",
              "      <td>0</td>\n",
              "      <td>0</td>\n",
              "      <td>4</td>\n",
              "      <td>0</td>\n",
              "      <td>0</td>\n",
              "      <td>0</td>\n",
              "      <td>0.00</td>\n",
              "      <td>0</td>\n",
              "    </tr>\n",
              "    <tr>\n",
              "      <th>2</th>\n",
              "      <td>1</td>\n",
              "      <td>0</td>\n",
              "      <td>7</td>\n",
              "      <td>2015</td>\n",
              "      <td>7</td>\n",
              "      <td>27</td>\n",
              "      <td>1</td>\n",
              "      <td>0</td>\n",
              "      <td>1</td>\n",
              "      <td>1</td>\n",
              "      <td>...</td>\n",
              "      <td>0</td>\n",
              "      <td>0</td>\n",
              "      <td>0</td>\n",
              "      <td>0</td>\n",
              "      <td>0</td>\n",
              "      <td>0</td>\n",
              "      <td>0</td>\n",
              "      <td>0</td>\n",
              "      <td>75.00</td>\n",
              "      <td>0</td>\n",
              "    </tr>\n",
              "    <tr>\n",
              "      <th>3</th>\n",
              "      <td>1</td>\n",
              "      <td>0</td>\n",
              "      <td>13</td>\n",
              "      <td>2015</td>\n",
              "      <td>7</td>\n",
              "      <td>27</td>\n",
              "      <td>1</td>\n",
              "      <td>0</td>\n",
              "      <td>1</td>\n",
              "      <td>1</td>\n",
              "      <td>...</td>\n",
              "      <td>1</td>\n",
              "      <td>0</td>\n",
              "      <td>0</td>\n",
              "      <td>0</td>\n",
              "      <td>0</td>\n",
              "      <td>0</td>\n",
              "      <td>0</td>\n",
              "      <td>0</td>\n",
              "      <td>75.00</td>\n",
              "      <td>0</td>\n",
              "    </tr>\n",
              "    <tr>\n",
              "      <th>4</th>\n",
              "      <td>1</td>\n",
              "      <td>0</td>\n",
              "      <td>14</td>\n",
              "      <td>2015</td>\n",
              "      <td>7</td>\n",
              "      <td>27</td>\n",
              "      <td>1</td>\n",
              "      <td>0</td>\n",
              "      <td>2</td>\n",
              "      <td>2</td>\n",
              "      <td>...</td>\n",
              "      <td>2</td>\n",
              "      <td>0</td>\n",
              "      <td>0</td>\n",
              "      <td>0</td>\n",
              "      <td>0</td>\n",
              "      <td>0</td>\n",
              "      <td>0</td>\n",
              "      <td>0</td>\n",
              "      <td>98.00</td>\n",
              "      <td>0</td>\n",
              "    </tr>\n",
              "    <tr>\n",
              "      <th>...</th>\n",
              "      <td>...</td>\n",
              "      <td>...</td>\n",
              "      <td>...</td>\n",
              "      <td>...</td>\n",
              "      <td>...</td>\n",
              "      <td>...</td>\n",
              "      <td>...</td>\n",
              "      <td>...</td>\n",
              "      <td>...</td>\n",
              "      <td>...</td>\n",
              "      <td>...</td>\n",
              "      <td>...</td>\n",
              "      <td>...</td>\n",
              "      <td>...</td>\n",
              "      <td>...</td>\n",
              "      <td>...</td>\n",
              "      <td>...</td>\n",
              "      <td>...</td>\n",
              "      <td>...</td>\n",
              "      <td>...</td>\n",
              "      <td>...</td>\n",
              "    </tr>\n",
              "    <tr>\n",
              "      <th>119385</th>\n",
              "      <td>2</td>\n",
              "      <td>0</td>\n",
              "      <td>23</td>\n",
              "      <td>2017</td>\n",
              "      <td>8</td>\n",
              "      <td>35</td>\n",
              "      <td>30</td>\n",
              "      <td>2</td>\n",
              "      <td>5</td>\n",
              "      <td>2</td>\n",
              "      <td>...</td>\n",
              "      <td>2</td>\n",
              "      <td>0</td>\n",
              "      <td>0</td>\n",
              "      <td>0</td>\n",
              "      <td>0</td>\n",
              "      <td>0</td>\n",
              "      <td>0</td>\n",
              "      <td>0</td>\n",
              "      <td>96.14</td>\n",
              "      <td>0</td>\n",
              "    </tr>\n",
              "    <tr>\n",
              "      <th>119386</th>\n",
              "      <td>2</td>\n",
              "      <td>0</td>\n",
              "      <td>102</td>\n",
              "      <td>2017</td>\n",
              "      <td>8</td>\n",
              "      <td>35</td>\n",
              "      <td>31</td>\n",
              "      <td>2</td>\n",
              "      <td>5</td>\n",
              "      <td>3</td>\n",
              "      <td>...</td>\n",
              "      <td>2</td>\n",
              "      <td>0</td>\n",
              "      <td>0</td>\n",
              "      <td>0</td>\n",
              "      <td>0</td>\n",
              "      <td>0</td>\n",
              "      <td>0</td>\n",
              "      <td>0</td>\n",
              "      <td>225.43</td>\n",
              "      <td>0</td>\n",
              "    </tr>\n",
              "    <tr>\n",
              "      <th>119387</th>\n",
              "      <td>2</td>\n",
              "      <td>0</td>\n",
              "      <td>34</td>\n",
              "      <td>2017</td>\n",
              "      <td>8</td>\n",
              "      <td>35</td>\n",
              "      <td>31</td>\n",
              "      <td>2</td>\n",
              "      <td>5</td>\n",
              "      <td>2</td>\n",
              "      <td>...</td>\n",
              "      <td>2</td>\n",
              "      <td>0</td>\n",
              "      <td>0</td>\n",
              "      <td>0</td>\n",
              "      <td>0</td>\n",
              "      <td>0</td>\n",
              "      <td>0</td>\n",
              "      <td>0</td>\n",
              "      <td>157.71</td>\n",
              "      <td>0</td>\n",
              "    </tr>\n",
              "    <tr>\n",
              "      <th>119388</th>\n",
              "      <td>2</td>\n",
              "      <td>0</td>\n",
              "      <td>109</td>\n",
              "      <td>2017</td>\n",
              "      <td>8</td>\n",
              "      <td>35</td>\n",
              "      <td>31</td>\n",
              "      <td>2</td>\n",
              "      <td>5</td>\n",
              "      <td>2</td>\n",
              "      <td>...</td>\n",
              "      <td>2</td>\n",
              "      <td>0</td>\n",
              "      <td>0</td>\n",
              "      <td>0</td>\n",
              "      <td>0</td>\n",
              "      <td>0</td>\n",
              "      <td>0</td>\n",
              "      <td>0</td>\n",
              "      <td>104.40</td>\n",
              "      <td>0</td>\n",
              "    </tr>\n",
              "    <tr>\n",
              "      <th>119389</th>\n",
              "      <td>2</td>\n",
              "      <td>0</td>\n",
              "      <td>205</td>\n",
              "      <td>2017</td>\n",
              "      <td>8</td>\n",
              "      <td>35</td>\n",
              "      <td>29</td>\n",
              "      <td>2</td>\n",
              "      <td>7</td>\n",
              "      <td>2</td>\n",
              "      <td>...</td>\n",
              "      <td>2</td>\n",
              "      <td>0</td>\n",
              "      <td>0</td>\n",
              "      <td>0</td>\n",
              "      <td>0</td>\n",
              "      <td>0</td>\n",
              "      <td>0</td>\n",
              "      <td>0</td>\n",
              "      <td>151.20</td>\n",
              "      <td>0</td>\n",
              "    </tr>\n",
              "  </tbody>\n",
              "</table>\n",
              "<p>82638 rows × 23 columns</p>\n",
              "</div>\n",
              "      <button class=\"colab-df-convert\" onclick=\"convertToInteractive('df-fea3ffeb-bc30-4d3c-a989-75c132581396')\"\n",
              "              title=\"Convert this dataframe to an interactive table.\"\n",
              "              style=\"display:none;\">\n",
              "        \n",
              "  <svg xmlns=\"http://www.w3.org/2000/svg\" height=\"24px\"viewBox=\"0 0 24 24\"\n",
              "       width=\"24px\">\n",
              "    <path d=\"M0 0h24v24H0V0z\" fill=\"none\"/>\n",
              "    <path d=\"M18.56 5.44l.94 2.06.94-2.06 2.06-.94-2.06-.94-.94-2.06-.94 2.06-2.06.94zm-11 1L8.5 8.5l.94-2.06 2.06-.94-2.06-.94L8.5 2.5l-.94 2.06-2.06.94zm10 10l.94 2.06.94-2.06 2.06-.94-2.06-.94-.94-2.06-.94 2.06-2.06.94z\"/><path d=\"M17.41 7.96l-1.37-1.37c-.4-.4-.92-.59-1.43-.59-.52 0-1.04.2-1.43.59L10.3 9.45l-7.72 7.72c-.78.78-.78 2.05 0 2.83L4 21.41c.39.39.9.59 1.41.59.51 0 1.02-.2 1.41-.59l7.78-7.78 2.81-2.81c.8-.78.8-2.07 0-2.86zM5.41 20L4 18.59l7.72-7.72 1.47 1.35L5.41 20z\"/>\n",
              "  </svg>\n",
              "      </button>\n",
              "      \n",
              "  <style>\n",
              "    .colab-df-container {\n",
              "      display:flex;\n",
              "      flex-wrap:wrap;\n",
              "      gap: 12px;\n",
              "    }\n",
              "\n",
              "    .colab-df-convert {\n",
              "      background-color: #E8F0FE;\n",
              "      border: none;\n",
              "      border-radius: 50%;\n",
              "      cursor: pointer;\n",
              "      display: none;\n",
              "      fill: #1967D2;\n",
              "      height: 32px;\n",
              "      padding: 0 0 0 0;\n",
              "      width: 32px;\n",
              "    }\n",
              "\n",
              "    .colab-df-convert:hover {\n",
              "      background-color: #E2EBFA;\n",
              "      box-shadow: 0px 1px 2px rgba(60, 64, 67, 0.3), 0px 1px 3px 1px rgba(60, 64, 67, 0.15);\n",
              "      fill: #174EA6;\n",
              "    }\n",
              "\n",
              "    [theme=dark] .colab-df-convert {\n",
              "      background-color: #3B4455;\n",
              "      fill: #D2E3FC;\n",
              "    }\n",
              "\n",
              "    [theme=dark] .colab-df-convert:hover {\n",
              "      background-color: #434B5C;\n",
              "      box-shadow: 0px 1px 3px 1px rgba(0, 0, 0, 0.15);\n",
              "      filter: drop-shadow(0px 1px 2px rgba(0, 0, 0, 0.3));\n",
              "      fill: #FFFFFF;\n",
              "    }\n",
              "  </style>\n",
              "\n",
              "      <script>\n",
              "        const buttonEl =\n",
              "          document.querySelector('#df-fea3ffeb-bc30-4d3c-a989-75c132581396 button.colab-df-convert');\n",
              "        buttonEl.style.display =\n",
              "          google.colab.kernel.accessAllowed ? 'block' : 'none';\n",
              "\n",
              "        async function convertToInteractive(key) {\n",
              "          const element = document.querySelector('#df-fea3ffeb-bc30-4d3c-a989-75c132581396');\n",
              "          const dataTable =\n",
              "            await google.colab.kernel.invokeFunction('convertToInteractive',\n",
              "                                                     [key], {});\n",
              "          if (!dataTable) return;\n",
              "\n",
              "          const docLinkHtml = 'Like what you see? Visit the ' +\n",
              "            '<a target=\"_blank\" href=https://colab.research.google.com/notebooks/data_table.ipynb>data table notebook</a>'\n",
              "            + ' to learn more about interactive tables.';\n",
              "          element.innerHTML = '';\n",
              "          dataTable['output_type'] = 'display_data';\n",
              "          await google.colab.output.renderOutput(dataTable, element);\n",
              "          const docLink = document.createElement('div');\n",
              "          docLink.innerHTML = docLinkHtml;\n",
              "          element.appendChild(docLink);\n",
              "        }\n",
              "      </script>\n",
              "    </div>\n",
              "  </div>\n",
              "  "
            ]
          },
          "metadata": {},
          "execution_count": 77
        }
      ],
      "source": [
        "df.drop_duplicates()"
      ]
    },
    {
      "cell_type": "markdown",
      "metadata": {
        "id": "fIrQKR3bdqj8"
      },
      "source": [
        "### Create models "
      ]
    },
    {
      "cell_type": "code",
      "execution_count": null,
      "metadata": {
        "id": "OjC9z8_DCMi9"
      },
      "outputs": [],
      "source": [
        "from sklearn.svm import LinearSVC"
      ]
    },
    {
      "cell_type": "code",
      "execution_count": null,
      "metadata": {
        "id": "uSwYBJJB5DzJ"
      },
      "outputs": [],
      "source": [
        "y = df['is_canceled']\n",
        "X = df.drop('is_canceled', axis=1)"
      ]
    },
    {
      "cell_type": "code",
      "execution_count": null,
      "metadata": {
        "id": "EzTcXEbySSBa"
      },
      "outputs": [],
      "source": [
        "def apply_models_SVN_out_of_the_box(X, y):\n",
        "\n",
        "    #Apply PCA\n",
        "    pca = PCA()\n",
        "    X_pca = pca.fit_transform(X)\n",
        "\n",
        "    # Split data into training and test sets\n",
        "    X_train, X_test, y_train, y_test = train_test_split(X, y, test_size=0.3, random_state=33)\n",
        "\n",
        "    # Standardize features\n",
        "    scaler = StandardScaler()\n",
        "    X_train_scaled = scaler.fit_transform(X_train)\n",
        "    X_test_scaled = scaler.transform(X_test)\n",
        "\n",
        "    # SVN\n",
        "    svm = LinearSVC()\n",
        "    svm.fit(X_train_scaled, y_train)\n",
        "    svm_preds_train = svm.predict(X_train_scaled)\n",
        "    svm_preds_test = svm.predict(X_test_scaled)\n",
        "    svm_accuracy_train = accuracy_score(y_train, svm_preds_train)\n",
        "    svm_accuracy_test = accuracy_score(y_test, svm_preds_test)\n",
        "\n",
        "\n",
        "    # Create a grid to display the results\n",
        "    results = pd.DataFrame(\n",
        "        {\n",
        "            'Model': ['SVN '],\n",
        "            'Accuracy/RMSE (Train)': [svm_accuracy_train],\n",
        "            'Accuracy/RMSE (Test)': [svm_accuracy_test]\n",
        "        }\n",
        "    )\n",
        "    print(results)"
      ]
    },
    {
      "cell_type": "code",
      "execution_count": null,
      "metadata": {
        "colab": {
          "base_uri": "https://localhost:8080/"
        },
        "id": "REYFrOaCSxGd",
        "outputId": "3e8ef2b3-6746-41e2-937a-a215ae196256"
      },
      "outputs": [
        {
          "output_type": "stream",
          "name": "stdout",
          "text": [
            "  Model  Accuracy/RMSE (Train)  Accuracy/RMSE (Test)\n",
            "0  SVN                 0.77024              0.767673\n"
          ]
        }
      ],
      "source": [
        "apply_models_SVN_out_of_the_box(X, y)"
      ]
    },
    {
      "cell_type": "code",
      "execution_count": null,
      "metadata": {
        "id": "j7LKwdZy8fjQ"
      },
      "outputs": [],
      "source": [
        "from sklearn.decomposition import PCA\n",
        "pca = PCA(n_components=11)  \n",
        "X = pca.fit_transform(X)"
      ]
    },
    {
      "cell_type": "code",
      "source": [
        "print(pca.explained_variance_ratio_)"
      ],
      "metadata": {
        "colab": {
          "base_uri": "https://localhost:8080/"
        },
        "id": "795HE-KS5ct6",
        "outputId": "7ac484f7-9981-4c57-a770-bdf62cea98b6"
      },
      "execution_count": null,
      "outputs": [
        {
          "output_type": "stream",
          "name": "stdout",
          "text": [
            "[8.30318271e-01 1.47468848e-01 1.39835695e-02 5.64211927e-03\n",
            " 1.42045883e-03 2.89848424e-04 2.12902178e-04 1.68641646e-04\n",
            " 1.28619526e-04 8.33111021e-05 5.25537707e-05]\n"
          ]
        }
      ]
    },
    {
      "cell_type": "code",
      "execution_count": null,
      "metadata": {
        "colab": {
          "base_uri": "https://localhost:8080/"
        },
        "id": "VA1yDLUFS87Y",
        "outputId": "a0af6bf4-88bd-4cce-e9ba-180dcccb6629"
      },
      "outputs": [
        {
          "output_type": "stream",
          "name": "stdout",
          "text": [
            "  Model  Accuracy/RMSE (Train)  Accuracy/RMSE (Test)\n",
            "0  SVN                0.756595              0.755105\n"
          ]
        }
      ],
      "source": [
        "apply_models_SVN_out_of_the_box(X, y)"
      ]
    },
    {
      "cell_type": "code",
      "execution_count": null,
      "metadata": {
        "id": "N0_K8f-QT17R"
      },
      "outputs": [],
      "source": [
        "from sklearn.svm import SVC  \n",
        "from sklearn.metrics import classification_report, confusion_matrix  "
      ]
    },
    {
      "cell_type": "code",
      "source": [
        "# Standardize features\n",
        "scaler = StandardScaler()\n",
        "X = scaler.fit_transform(X)"
      ],
      "metadata": {
        "id": "z9c2_TSlAumB"
      },
      "execution_count": null,
      "outputs": []
    },
    {
      "cell_type": "code",
      "source": [
        "X = np.round(X, decimals=2)\n",
        "y = np.round(y, decimals=2)"
      ],
      "metadata": {
        "id": "cYKp3MIO6yXd"
      },
      "execution_count": null,
      "outputs": []
    },
    {
      "cell_type": "code",
      "source": [
        "X = X[:5000]\n",
        "y = y[:5000]"
      ],
      "metadata": {
        "id": "761NA94i_Gl4"
      },
      "execution_count": null,
      "outputs": []
    },
    {
      "cell_type": "code",
      "execution_count": null,
      "metadata": {
        "id": "q-hVawP6rYMi"
      },
      "outputs": [],
      "source": [
        "#https://www.vebuso.com/2020/03/svm-hyperparameter-tuning-using-gridsearchcv/\n",
        "def getClassifier(ktype):\n",
        "    if ktype == 0:\n",
        "        print(\"Radial\")\n",
        "        # Radial Basis Function kernal\n",
        "        return SVC(kernel='rbf', gamma=\"auto\", max_iter=1000)\n",
        "    elif ktype == 1:\n",
        "        print(\"Sigmoid\")\n",
        "        # Sigmoid kernal\n",
        "        return SVC(kernel='sigmoid', gamma=\"auto\", max_iter=1000)\n",
        "    elif ktype == 2:\n",
        "        print(\"Polynomial\")\n",
        "        # Polynomial kernal\n",
        "        return SVC(kernel='poly', gamma=\"auto\", max_iter=1000)"
      ]
    },
    {
      "cell_type": "code",
      "execution_count": null,
      "metadata": {
        "colab": {
          "base_uri": "https://localhost:8080/"
        },
        "id": "uWFQzxi2UcoS",
        "outputId": "e0c97aaf-f8a6-4a8f-ca47-41dff14daf72"
      },
      "outputs": [
        {
          "output_type": "stream",
          "name": "stdout",
          "text": [
            "Radial\n",
            "\n",
            "Evaluation: 0 kernel\n",
            "              precision    recall  f1-score   support\n",
            "\n",
            "           0       0.91      0.83      0.87      1058\n",
            "           1       0.83      0.91      0.87       942\n",
            "\n",
            "    accuracy                           0.87      2000\n",
            "   macro avg       0.87      0.87      0.87      2000\n",
            "weighted avg       0.87      0.87      0.87      2000\n",
            "\n",
            "Sigmoid\n",
            "\n",
            "Evaluation: 1 kernel\n",
            "              precision    recall  f1-score   support\n",
            "\n",
            "           0       0.69      0.68      0.69      1066\n",
            "           1       0.64      0.66      0.65       934\n",
            "\n",
            "    accuracy                           0.67      2000\n",
            "   macro avg       0.67      0.67      0.67      2000\n",
            "weighted avg       0.67      0.67      0.67      2000\n",
            "\n",
            "Polynomial\n",
            "\n",
            "Evaluation: 2 kernel\n",
            "              precision    recall  f1-score   support\n",
            "\n",
            "           0       0.84      0.87      0.86      1056\n",
            "           1       0.85      0.82      0.84       944\n",
            "\n",
            "    accuracy                           0.85      2000\n",
            "   macro avg       0.85      0.85      0.85      2000\n",
            "weighted avg       0.85      0.85      0.85      2000\n",
            "\n"
          ]
        }
      ],
      "source": [
        "for i in range(3):\n",
        "    X_train, X_test, y_train, y_test = train_test_split(X, y, test_size = 0.40)\n",
        "    svclassifier = getClassifier(ktype=i)\n",
        "    print() \n",
        "    svclassifier.fit(X_train, y_train)# Make prediction\n",
        "    y_pred = svclassifier.predict(X_test)# Evaluate our model\n",
        "    print(\"Evaluation:\", i, \"kernel\")\n",
        "    print(classification_report(y_test,y_pred))"
      ]
    },
    {
      "cell_type": "code",
      "execution_count": null,
      "metadata": {
        "id": "Mk6SG2P-Wcx5",
        "colab": {
          "base_uri": "https://localhost:8080/"
        },
        "outputId": "47972fc4-4c60-4d90-ed43-35f33da91adc"
      },
      "outputs": [
        {
          "output_type": "stream",
          "name": "stdout",
          "text": [
            "Accuracy (Train): 0.95\n",
            "Accuracy (Test): 0.87\n"
          ]
        }
      ],
      "source": [
        "from sklearn.svm import SVC\n",
        "from sklearn.model_selection import GridSearchCV\n",
        "from sklearn.metrics import accuracy_score\n",
        "\n",
        "svm = SVC()\n",
        "\n",
        "X_train, X_test, y_train, y_test = train_test_split(X, y, test_size = 0.30)\n",
        "\n",
        "\n",
        "param_grid = {\n",
        "    'C': [0.1,1,10],\n",
        "    'kernel': ['rbf'],\n",
        "    'gamma': [1,10,100,1000]\n",
        "}\n",
        "\n",
        "\n",
        "grid_search = GridSearchCV(svm, param_grid)\n",
        "grid_search.fit(X_train, y_train)\n",
        "\n",
        "best_svm = grid_search.best_estimator_\n",
        "\n",
        "best_svm.fit(X_train, y_train)\n",
        "\n",
        "svm_preds_train = best_svm.predict(X_train)\n",
        "svm_preds_test = best_svm.predict(X_test)\n",
        "\n",
        "svm_accuracy_train = accuracy_score(y_train, svm_preds_train)\n",
        "svm_accuracy_test = accuracy_score(y_test, svm_preds_test)\n",
        "\n",
        "print('Accuracy (Train): %.2f' % (svm_accuracy_train))\n",
        "print('Accuracy (Test): %.2f' % (svm_accuracy_test))\n"
      ]
    },
    {
      "cell_type": "code",
      "source": [
        "print(best_svm)"
      ],
      "metadata": {
        "colab": {
          "base_uri": "https://localhost:8080/"
        },
        "id": "SYdgPAqIH9XV",
        "outputId": "3bdcdd66-da12-4a6f-9f78-d74d61fd0b4f"
      },
      "execution_count": null,
      "outputs": [
        {
          "output_type": "stream",
          "name": "stdout",
          "text": [
            "SVC(C=1, gamma=1)\n"
          ]
        }
      ]
    },
    {
      "cell_type": "code",
      "source": [
        "print(classification_report(y_test,svm_preds_test))"
      ],
      "metadata": {
        "colab": {
          "base_uri": "https://localhost:8080/"
        },
        "id": "95Pt3x2EINTc",
        "outputId": "25ce3dca-dfe3-45bf-8665-835b68d31e6d"
      },
      "execution_count": null,
      "outputs": [
        {
          "output_type": "stream",
          "name": "stdout",
          "text": [
            "              precision    recall  f1-score   support\n",
            "\n",
            "           0       0.88      0.90      0.89       808\n",
            "           1       0.88      0.86      0.87       692\n",
            "\n",
            "    accuracy                           0.88      1500\n",
            "   macro avg       0.88      0.88      0.88      1500\n",
            "weighted avg       0.88      0.88      0.88      1500\n",
            "\n"
          ]
        }
      ]
    },
    {
      "cell_type": "code",
      "source": [
        "from sklearn.metrics import roc_curve, roc_auc_score\n",
        "y_scores = best_svm.decision_function(X_test)\n",
        "fpr, tpr, thresholds = roc_curve(y_test, y_scores)\n",
        "\n",
        "roc_auc = roc_auc_score(y_test, y_scores)\n",
        "roc_auc = round(roc_auc,2)\n",
        "plt.plot(fpr, tpr, label='ROC curve (AUC = {})'.format(roc_auc))\n",
        "plt.plot([0, 1], [0, 1], 'k--', label='chance level (AUC = 0.5)')\n",
        "plt.xlabel('False Positive Rate')\n",
        "plt.ylabel('True Positive Rate')\n",
        "plt.legend(loc='lower right')\n",
        "plt.show()"
      ],
      "metadata": {
        "colab": {
          "base_uri": "https://localhost:8080/",
          "height": 449
        },
        "id": "pdc9bjeVR9dZ",
        "outputId": "04fed921-b611-4d84-b08c-17485e574258"
      },
      "execution_count": 139,
      "outputs": [
        {
          "output_type": "display_data",
          "data": {
            "text/plain": [
              "<Figure size 640x480 with 1 Axes>"
            ],
            "image/png": "[encoded data removed]"
          },
          "metadata": {}
        }
      ]
    },
    {
      "cell_type": "code",
      "source": [],
      "metadata": {
        "id": "aQG1-MMzyflM"
      },
      "execution_count": null,
      "outputs": []
    }
  ],
  "metadata": {
    "colab": {
      "machine_shape": "hm",
      "provenance": [],
      "include_colab_link": true
    },
    "kernelspec": {
      "display_name": "Python 3",
      "name": "python3"
    },
    "language_info": {
      "codemirror_mode": {
        "name": "ipython",
        "version": 3
      },
      "file_extension": ".py",
      "mimetype": "text/x-python",
      "name": "python",
      "nbconvert_exporter": "python",
      "pygments_lexer": "ipython3",
      "version": "3.11.3"
    }
  },
  "nbformat": 4,
  "nbformat_minor": 0
}
