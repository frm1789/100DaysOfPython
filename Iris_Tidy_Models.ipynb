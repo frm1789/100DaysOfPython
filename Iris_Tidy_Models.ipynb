{
  "nbformat": 4,
  "nbformat_minor": 0,
  "metadata": {
    "colab": {
      "provenance": [],
      "authorship_tag": "ABX9TyMeepC3SUygQHfKQ+8ZSCUu",
      "include_colab_link": true
    },
    "kernelspec": {
      "name": "python3",
      "display_name": "Python 3"
    },
    "language_info": {
      "name": "python"
    }
  },
  "cells": [
    {
      "cell_type": "markdown",
      "metadata": {
        "id": "view-in-github",
        "colab_type": "text"
      },
      "source": [
        "<a href=\"https://colab.research.google.com/github/frm1789/100DaysOfPython/blob/main/Iris_Tidy_Models.ipynb\" target=\"_parent\"><img src=\"https://colab.research.google.com/assets/colab-badge.svg\" alt=\"Open In Colab\"/></a>"
      ]
    },
    {
      "cell_type": "code",
      "execution_count": 33,
      "metadata": {
        "id": "kLt_su_RCw_T"
      },
      "outputs": [],
      "source": [
        "import numpy as np\n",
        "import pandas as pd\n",
        "from sklearn.datasets import load_iris\n",
        "from sklearn.decomposition import PCA\n",
        "from sklearn.linear_model import LogisticRegression, LinearRegression, Lasso, Ridge\n",
        "from sklearn.metrics import accuracy_score, mean_squared_error\n",
        "from sklearn.model_selection import train_test_split\n",
        "from sklearn.preprocessing import StandardScaler\n",
        "\n",
        "from sklearn.metrics import accuracy_score,confusion_matrix,classification_report"
      ]
    },
    {
      "cell_type": "code",
      "source": [
        "def apply_models_pca_regression(X, y):\n",
        "\n",
        "    # Apply PCA\n",
        "    pca = PCA()\n",
        "    X_pca = pca.fit_transform(X)\n",
        "\n",
        "    # Split data into training and test sets\n",
        "    X_train, X_test, y_train, y_test = train_test_split(X_pca, y, test_size=0.2, random_state=42)\n",
        "\n",
        "    # Standardize features\n",
        "    scaler = StandardScaler()\n",
        "    X_train_scaled = scaler.fit_transform(X_train)\n",
        "    X_test_scaled = scaler.transform(X_test)\n",
        "\n",
        "    # Linear Regression\n",
        "    # linear_model = LinearRegression()\n",
        "    # linear_model.fit(X_train_scaled, y_train)\n",
        "    # linear_preds_train = linear_model.predict(X_train_scaled)\n",
        "    # linear_preds_test = linear_model.predict(X_test_scaled)\n",
        "    # linear_rmse_train = np.sqrt(mean_squared_error(y_train, linear_preds_train))\n",
        "    # linear_rmse_test = np.sqrt(mean_squared_error(y_test, linear_preds_test))\n",
        "\n",
        "    # Logistic Regression\n",
        "    logistic_model = LogisticRegression(solver='lbfgs')\n",
        "    logistic_model.fit(X_train_scaled, y_train)\n",
        "    logistic_preds_train = logistic_model.predict(X_train_scaled)\n",
        "    logistic_preds_test = logistic_model.predict(X_test_scaled)\n",
        "    logistic_accuracy_train = accuracy_score(y_train, logistic_preds_train)\n",
        "    logistic_accuracy_test = accuracy_score(y_test, logistic_preds_test)\n",
        "\n",
        "    # Lasso Regression\n",
        "    lasso_model = Lasso()\n",
        "    lasso_model.fit(X_train_scaled, y_train)\n",
        "    lasso_preds_train = lasso_model.predict(X_train_scaled)\n",
        "    lasso_preds_test = lasso_model.predict(X_test_scaled)\n",
        "    lasso_rmse_train = np.sqrt(mean_squared_error(y_train, lasso_preds_train))\n",
        "    lasso_rmse_test = np.sqrt(mean_squared_error(y_test, lasso_preds_test))\n",
        "\n",
        "    # Ridge Regression\n",
        "    ridge_model = Ridge()\n",
        "    ridge_model.fit(X_train_scaled, y_train)\n",
        "    ridge_preds_train = ridge_model.predict(X_train_scaled)\n",
        "    ridge_preds_test = ridge_model.predict(X_test_scaled)\n",
        "    ridge_rmse_train = np.sqrt(mean_squared_error(y_train, ridge_preds_train))\n",
        "    ridge_rmse_test = np.sqrt(mean_squared_error(y_test, ridge_preds_test))\n",
        "\n",
        "    # Create a grid to display the results\n",
        "    results = pd.DataFrame(\n",
        "        {\n",
        "            'Model': ['Logistic Regression', 'Lasso Regression', 'Ridge Regression'],\n",
        "            'Accuracy/RMSE (Train)': [logistic_accuracy_train, lasso_rmse_train, ridge_rmse_train],\n",
        "            'Accuracy/RMSE (Test)': [logistic_accuracy_test, lasso_rmse_test, ridge_rmse_test]\n",
        "        }\n",
        "    )\n",
        "    print(results)\n",
        "    \n"
      ],
      "metadata": {
        "id": "zSElCTZVC4TJ"
      },
      "execution_count": 41,
      "outputs": []
    },
    {
      "cell_type": "code",
      "source": [
        "iris = load_iris()\n",
        "X = iris.data\n",
        "y = iris.target"
      ],
      "metadata": {
        "id": "RmgR4g4dDvxa"
      },
      "execution_count": 45,
      "outputs": []
    },
    {
      "cell_type": "code",
      "source": [
        "apply_models_pca_regression(X, y)"
      ],
      "metadata": {
        "colab": {
          "base_uri": "https://localhost:8080/"
        },
        "id": "jQEFkqlAC-V7",
        "outputId": "deb21690-7356-436a-c181-829a5a8ca81f"
      },
      "execution_count": 40,
      "outputs": [
        {
          "output_type": "stream",
          "name": "stdout",
          "text": [
            "                 Model  Accuracy/RMSE (Train)  Accuracy/RMSE (Test)\n",
            "0  Logistic Regression               0.958333              1.000000\n",
            "1     Lasso Regression               0.811335              0.837033\n",
            "2     Ridge Regression               0.221664              0.192805\n"
          ]
        }
      ]
    }
  ]
}