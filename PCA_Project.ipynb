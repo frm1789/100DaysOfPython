{
  "nbformat": 4,
  "nbformat_minor": 0,
  "metadata": {
    "colab": {
      "provenance": [],
      "authorship_tag": "ABX9TyMBRpEJ2KLLkqlXljQRGsc1",
      "include_colab_link": true
    },
    "kernelspec": {
      "name": "python3",
      "display_name": "Python 3"
    },
    "language_info": {
      "name": "python"
    }
  },
  "cells": [
    {
      "cell_type": "markdown",
      "metadata": {
        "id": "view-in-github",
        "colab_type": "text"
      },
      "source": [
        "<a href=\"https://colab.research.google.com/github/frm1789/100DaysOfPython/blob/main/PCA_Project.ipynb\" target=\"_parent\"><img src=\"https://colab.research.google.com/assets/colab-badge.svg\" alt=\"Open In Colab\"/></a>"
      ]
    },
    {
      "cell_type": "markdown",
      "source": [
        "# PCA Application"
      ],
      "metadata": {
        "id": "ibApCPN8XXEr"
      }
    },
    {
      "cell_type": "markdown",
      "source": [
        "\n",
        "* Grasp the fundamental linear algebra techniques which are used to compute PCA.\n",
        "* Utilize NumPy to transition your newly gained mathematical knowledge into code.\n",
        "* Apply scikit-learn’s PCA and learn about its nuances while using it.\n",
        "* Understand the benefits of dimensionality reduction and the trade-off between speed and accuracy.\n"
      ],
      "metadata": {
        "id": "1Rb0nuDIXaEB"
      }
    },
    {
      "cell_type": "markdown",
      "source": [
        "# Project outline"
      ],
      "metadata": {
        "id": "qj2tpJreXuhN"
      }
    },
    {
      "cell_type": "markdown",
      "source": [
        "This project is divided into 3 milestones.\n",
        "\n",
        "1. Computing eigenvalues and eigenvectors\n",
        "Estimated duration: 1-2 hours\n",
        "\n",
        "2. Implementation of PCA and Logistic Regression\n",
        "Estimated duration: 1.5 -2 hours\n",
        "\n",
        "3. Plot, analyze, and compare results\n",
        "Estimated duration: 3.5-4 hours"
      ],
      "metadata": {
        "id": "BLCx_oIlXwhN"
      }
    },
    {
      "cell_type": "markdown",
      "source": [
        "# About this Notebook"
      ],
      "metadata": {
        "id": "iXXq7Kz2WWGe"
      }
    },
    {
      "cell_type": "markdown",
      "source": [
        "This `Jupyter Notebook` is the starter notebook for the second milestone of the project <b>Principal Component Analysis</b>. It consists of the following tasks:\n",
        "\n",
        "- Implementation of the covariance matrix and eigendecomposition in the custom PCA class.\n",
        "- Prepare data for training: train/test-split and normalization of the dataset.\n",
        "- Implement logistic regression with [sklearn](https://scikit-learn.org/stable/modules/generated/sklearn.linear_model.LogisticRegression.html?highlight=logistic%20regression#sklearn.linear_model.LogisticRegression) and validate its accuracy."
      ],
      "metadata": {
        "id": "0E32JgLtWXbM"
      }
    },
    {
      "cell_type": "code",
      "execution_count": 3,
      "metadata": {
        "id": "ktqYDr4WTjhm"
      },
      "outputs": [],
      "source": [
        "# standard imports\n",
        "import numpy as np\n",
        "\n",
        "\n",
        "# sklearn\n",
        "import sklearn\n",
        "from sklearn.decomposition import PCA\n",
        "from sklearn.datasets import fetch_openml\n",
        "from sklearn.model_selection import train_test_split\n",
        "from sklearn.linear_model import LogisticRegression\n",
        "from sklearn.metrics import accuracy_score\n",
        "\n",
        "\n",
        "# other useful imports\n",
        "from importlib import reload\n",
        "from time import time\n",
        "\n",
        "\n",
        "# imports for plotting\n",
        "import matplotlib.pyplot as plt\n",
        "\n",
        "\n",
        "#ignore warnings\n",
        "import warnings\n",
        "warnings.filterwarnings(action='ignore')"
      ]
    },
    {
      "cell_type": "code",
      "source": [
        "# change data_home path where you wnat to store the data\n",
        "# important: as_frame needs to be set as False otherwise we would get a data frame\n",
        "# and would have to convert the dataset to numpy arrays later on\n",
        "mnist = fetch_openml('mnist_784', data_home='data/', as_frame=False)"
      ],
      "metadata": {
        "id": "u_8TdHh9azzn"
      },
      "execution_count": 4,
      "outputs": []
    },
    {
      "cell_type": "code",
      "source": [
        "# the dataset is split into the images and the labels\n",
        "# we expect values between 0 and 255 for images\n",
        "print('Images shape: ', mnist.data.shape)\n",
        "print('Images range: ', mnist.data.min(), ' - ', mnist.data.max(), 'pixel')\n",
        "print('Labels shape: ', mnist.target.shape)"
      ],
      "metadata": {
        "colab": {
          "base_uri": "https://localhost:8080/"
        },
        "id": "NY_JyunZbQCj",
        "outputId": "515da0c4-41c1-4d51-a531-1f51ca47dac8"
      },
      "execution_count": 5,
      "outputs": [
        {
          "output_type": "stream",
          "name": "stdout",
          "text": [
            "Images shape:  (70000, 784)\n",
            "Images range:  0.0  -  255.0 pixel\n",
            "Labels shape:  (70000,)\n"
          ]
        }
      ]
    },
    {
      "cell_type": "code",
      "source": [
        "x_train, x_test, y_train, y_test = train_test_split(\n",
        "    mnist.data, mnist.target, test_size=1/7.0, random_state=0)"
      ],
      "metadata": {
        "id": "lY1b0KRabYGF"
      },
      "execution_count": 6,
      "outputs": []
    },
    {
      "cell_type": "code",
      "source": [
        "\n",
        "# check the split\n",
        "print('x_train: ' + str(x_train.shape))\n",
        "print('y_train: ' + str(y_train.shape))\n",
        "print('x_test:  '  + str(x_test.shape))\n",
        "print('y_test:  '  + str(y_test.shape))"
      ],
      "metadata": {
        "colab": {
          "base_uri": "https://localhost:8080/"
        },
        "id": "Q8VEvT6mbdnC",
        "outputId": "9e24be5c-e36d-4978-d35d-e2b18e60f823"
      },
      "execution_count": 9,
      "outputs": [
        {
          "output_type": "stream",
          "name": "stdout",
          "text": [
            "x_train: (60000, 784)\n",
            "y_train: (60000,)\n",
            "x_test:  (10000, 784)\n",
            "y_test:  (10000,)\n"
          ]
        }
      ]
    },
    {
      "cell_type": "markdown",
      "source": [
        " from\n",
        " https://stackoverflow.com/questions/42353676/display-mnist-image-using-matplotlib"
      ],
      "metadata": {
        "id": "zWqHLJDlcpcG"
      }
    },
    {
      "cell_type": "code",
      "source": [
        "def gen_image(arr):\n",
        "    two_d = (np.reshape(arr, (28, 28)) * 255).astype(np.uint8)\n",
        "    plt.imshow(two_d, interpolation='nearest')\n",
        "    return plt\n",
        "\n",
        "# Get a batch of two random images and show in a pop-up window.\n",
        "gen_image(x_train[0]).show()\n"
      ],
      "metadata": {
        "colab": {
          "base_uri": "https://localhost:8080/",
          "height": 430
        },
        "id": "Oji0b6MiboBh",
        "outputId": "78807456-1cc2-46ad-c6a4-bc9983632e90"
      },
      "execution_count": 18,
      "outputs": [
        {
          "output_type": "display_data",
          "data": {
            "text/plain": [
              "<Figure size 640x480 with 1 Axes>"
            ],
            "image/png": "[encoded data removed]"
          },
          "metadata": {}
        }
      ]
    },
    {
      "cell_type": "code",
      "source": [
        "print(x_train[0])"
      ],
      "metadata": {
        "colab": {
          "base_uri": "https://localhost:8080/"
        },
        "id": "qyGMmHhNc-DA",
        "outputId": "901fbe39-d7ad-49ec-b9ae-5d6adcbc58fd"
      },
      "execution_count": 19,
      "outputs": [
        {
          "output_type": "stream",
          "name": "stdout",
          "text": [
            "[  0.   0.   0.   0.   0.   0.   0.   0.   0.   0.   0.   0.   0.   0.\n",
            "   0.   0.   0.   0.   0.   0.   0.   0.   0.   0.   0.   0.   0.   0.\n",
            "   0.   0.   0.   0.   0.   0.   0.   0.   0.   0.   0.   0.   0.   0.\n",
            "   0.   0.   0.   0.   0.   0.   0.   0.   0.   0.   0.   0.   0.   0.\n",
            "   0.   0.   0.   0.   0.   0.   0.   0.   0.   0.   0.   0.   0.   0.\n",
            "   0.   0.   0.   0.   0.   0.   0.   0.   0.   0.   0.   0.   0.   0.\n",
            "   0.   0.   0.   0.   0.   0.   0.   0.   0.   0.   0.   0.   0.   0.\n",
            "   0.   0.   0.   0.   0.   0.   0.   0.   0.   0.   0.   0.   0.   0.\n",
            "   0.   0.   0.   0.   0.   0.   0.   0.   0.   0.   0.   0.   0.   0.\n",
            "   0.   0.   0.   0.   0.   0.   0.   0.   0.   0.   0.   0.   0.   0.\n",
            "   0.   0.   0.   0.   0.   0.   0.   0.   0.   0.   0.   0.   0.   0.\n",
            "   0.   0.   0.   0.   0.   0.   0.   0.   0.   0.   0.   0.   0.   0.\n",
            "   0.   0.   0.   0.   0.   0.  40. 195. 126.   6.   0.   0.   0.   0.\n",
            "   0.   0.   0.   0.   0.   0.   0.   0.   0.   0.   0.   0.   0.   0.\n",
            "   0.   0.   0.   0.   0.  52. 222. 254. 254. 203.  77.   5.   0.   0.\n",
            "   0.   0.   0.   0.   0.   0.   0.   0.   0.   0.   0.   0.   0.   0.\n",
            "   0.   0.   0.   0.   0. 111. 254. 254. 254. 254. 254. 205.  65.   0.\n",
            "   0.   0.   0.   0.   0.   0.   0.   0.   0.   0.   0.   0.   0.   0.\n",
            "   0.   0.   0.   0.   0. 111. 254. 247.  86. 127. 222. 254. 242. 201.\n",
            "  79.  21.  66. 159.  62.   0.   0.   0.   0.   0.   0.   0.   0.   0.\n",
            "   0.   0.   0.   0.   0.  39. 228. 254. 254.  94.  58. 186. 254. 254.\n",
            " 254. 254. 254. 254. 129.   0.   0.   0.   0.   0.   0.   0.   0.   0.\n",
            "   0.   0.   0.   0.   0.   0.  16. 104.  94.  22.   0.   4.  25. 142.\n",
            " 224. 231. 254. 254. 129.   0.   0.   0.   0.   0.   0.   0.   0.   0.\n",
            "   0.   0.   0.   0.   0.   0.   0.   0.   0.   0.   0.   0.   0.   0.\n",
            "   0.  17. 226. 254. 129.   0.   0.   0.   0.   0.   0.   0.   0.   0.\n",
            "   0.   0.   0.   0.   0.   0.   0.   0.   0.   0.   0.   0.   0.   0.\n",
            "   0.  48. 246. 254. 129.   0.   0.   0.   0.   0.   0.   0.   0.   0.\n",
            "   0.   0.   0.   0.   0.   0.   0.   0.   0.   0.   0.   0.   0.   0.\n",
            "   0.  47. 245. 254. 129.   0.   0.   0.   0.   0.   0.   0.   0.   0.\n",
            "   0.   0.   0.   0.   0.   0.   0.   0.   0.   0.   0.   0. 116.  92.\n",
            "  90.  99. 254. 254. 154.  15.   0.   0.   0.   0.   0.   0.   0.   0.\n",
            "   0.   0.   0.   0.   0.   0.   0.   0.   0.   0.   0.  16. 215. 254.\n",
            " 254. 254. 254. 254. 254. 220. 205. 166.   4.   0.   0.   0.   0.   0.\n",
            "   0.   0.   0.   0.   0.   0.   0.   0.   0.   0.   0.   0.   0. 113.\n",
            " 195. 254. 254. 254. 254. 254. 209.  24.   0.   0.   0.   0.   0.   0.\n",
            "   0.   0.   0.   0.   0.   0.   0.   0.   0.   0.   0.   0.   0.   0.\n",
            "   1. 175. 254. 254. 104.  40.  19.   0.   0.   0.   0.   0.   0.   0.\n",
            "   0.   0.   0.   0.   0.   0.   0.   0.   0.   0.   0.   0.   0.   0.\n",
            "   0. 132. 254. 254.  30.   0.   0.   0.   0.   0.   0.   0.   0.   0.\n",
            "   0.   0.   0.   0.   0.   0.   0.   0.   0.   0.   0.   0.   0.   0.\n",
            "   0. 100. 254. 254.  30.   0.   0.   0.   0.   0.   0.   0.   0.   0.\n",
            "   0.   0.   0.   0.   0.   0.   0.   0.   0.   0.   0.   0.   0.   0.\n",
            "   0.  61. 254. 254.  30.   0.   0.   0.   0.   0.   0.   0.   0.   0.\n",
            "   0.   0.   0.   0.   0.   0.   0.   0.   0.   0.   0.   0.   0.   0.\n",
            "   0.  61. 254. 254.  30.   0.   0.   0.   0.   0.   0.   0.   0.   0.\n",
            "   0.   0.   0.   0.   0.   0.   0.   0.   0.   0.   0.   0.   0.   0.\n",
            "   0.  61. 254. 254.  30.   0.   0.   0.   0.   0.   0.   0.   0.   0.\n",
            "   0.   0.   0.   0.   0.   0.   0.   0.   0.   0.   0.   0.   0.   0.\n",
            "   0.  26. 232. 254.  30.   0.   0.   0.   0.   0.   0.   0.   0.   0.\n",
            "   0.   0.   0.   0.   0.   0.   0.   0.   0.   0.   0.   0.   0.   0.\n",
            "   0.   0. 176. 160.   7.   0.   0.   0.   0.   0.   0.   0.   0.   0.\n",
            "   0.   0.   0.   0.   0.   0.   0.   0.   0.   0.   0.   0.   0.   0.\n",
            "   0.   0.   0.   0.   0.   0.   0.   0.   0.   0.   0.   0.   0.   0.\n",
            "   0.   0.   0.   0.   0.   0.   0.   0.   0.   0.   0.   0.   0.   0.\n",
            "   0.   0.   0.   0.   0.   0.   0.   0.   0.   0.   0.   0.   0.   0.]\n"
          ]
        }
      ]
    },
    {
      "cell_type": "markdown",
      "source": [
        "#### Normalize the data \n",
        "By dividing by 255"
      ],
      "metadata": {
        "id": "0YDTVrANdHnS"
      }
    },
    {
      "cell_type": "code",
      "source": [
        "x_train  = np.array(x_train)/255\n",
        "x_test = np.array(x_test)/255"
      ],
      "metadata": {
        "id": "6qR_DoMMdLSn"
      },
      "execution_count": 21,
      "outputs": []
    },
    {
      "cell_type": "markdown",
      "source": [],
      "metadata": {
        "id": "ppBLsB1_dh35"
      }
    },
    {
      "cell_type": "code",
      "source": [],
      "metadata": {
        "id": "-d_776_cdhdF"
      },
      "execution_count": null,
      "outputs": []
    }
  ]
}