{
  "nbformat": 4,
  "nbformat_minor": 0,
  "metadata": {
    "colab": {
      "provenance": [],
      "authorship_tag": "ABX9TyNv0rt2YE0gGpbnQ5rcl5pV",
      "include_colab_link": true
    },
    "kernelspec": {
      "name": "python3",
      "display_name": "Python 3"
    },
    "language_info": {
      "name": "python"
    }
  },
  "cells": [
    {
      "cell_type": "markdown",
      "metadata": {
        "id": "view-in-github",
        "colab_type": "text"
      },
      "source": [
        "<a href=\"https://colab.research.google.com/github/frm1789/100DaysOfPython/blob/main/PCA_Project.ipynb\" target=\"_parent\"><img src=\"https://colab.research.google.com/assets/colab-badge.svg\" alt=\"Open In Colab\"/></a>"
      ]
    },
    {
      "cell_type": "markdown",
      "source": [
        "# PCA Application"
      ],
      "metadata": {
        "id": "ibApCPN8XXEr"
      }
    },
    {
      "cell_type": "markdown",
      "source": [
        "\n",
        "* Grasp the fundamental linear algebra techniques which are used to compute PCA.\n",
        "* Utilize NumPy to transition your newly gained mathematical knowledge into code.\n",
        "* Apply scikit-learn’s PCA and learn about its nuances while using it.\n",
        "* Understand the benefits of dimensionality reduction and the trade-off between speed and accuracy.\n"
      ],
      "metadata": {
        "id": "1Rb0nuDIXaEB"
      }
    },
    {
      "cell_type": "markdown",
      "source": [
        "# Project outline"
      ],
      "metadata": {
        "id": "qj2tpJreXuhN"
      }
    },
    {
      "cell_type": "markdown",
      "source": [
        "This project is divided into 3 milestones.\n",
        "\n",
        "1. Computing eigenvalues and eigenvectors\n",
        "Estimated duration: 1-2 hours\n",
        "\n",
        "2. Implementation of PCA and Logistic Regression\n",
        "Estimated duration: 1.5 -2 hours\n",
        "\n",
        "3. Plot, analyze, and compare results\n",
        "Estimated duration: 3.5-4 hours"
      ],
      "metadata": {
        "id": "BLCx_oIlXwhN"
      }
    },
    {
      "cell_type": "markdown",
      "source": [
        "# About this Notebook"
      ],
      "metadata": {
        "id": "iXXq7Kz2WWGe"
      }
    },
    {
      "cell_type": "markdown",
      "source": [
        "This `Jupyter Notebook` is the starter notebook for the second milestone of the project <b>Principal Component Analysis</b>. It consists of the following tasks:\n",
        "\n",
        "- Implementation of the covariance matrix and eigendecomposition in the custom PCA class.\n",
        "- Prepare data for training: train/test-split and normalization of the dataset.\n",
        "- Implement logistic regression with [sklearn](https://scikit-learn.org/stable/modules/generated/sklearn.linear_model.LogisticRegression.html?highlight=logistic%20regression#sklearn.linear_model.LogisticRegression) and validate its accuracy."
      ],
      "metadata": {
        "id": "0E32JgLtWXbM"
      }
    },
    {
      "cell_type": "code",
      "execution_count": 2,
      "metadata": {
        "colab": {
          "base_uri": "https://localhost:8080/",
          "height": 359
        },
        "id": "ktqYDr4WTjhm",
        "outputId": "7bf4b508-5750-4c58-aa5c-3ff181417349"
      },
      "outputs": [
        {
          "output_type": "error",
          "ename": "ModuleNotFoundError",
          "evalue": "ignored",
          "traceback": [
            "\u001b[0;31m---------------------------------------------------------------------------\u001b[0m",
            "\u001b[0;31mModuleNotFoundError\u001b[0m                       Traceback (most recent call last)",
            "\u001b[0;32m<ipython-input-2-fbccee4b9426>\u001b[0m in \u001b[0;36m<cell line: 29>\u001b[0;34m()\u001b[0m\n\u001b[1;32m     27\u001b[0m \u001b[0;34m\u001b[0m\u001b[0m\n\u001b[1;32m     28\u001b[0m \u001b[0;31m# custom imports\u001b[0m\u001b[0;34m\u001b[0m\u001b[0;34m\u001b[0m\u001b[0m\n\u001b[0;32m---> 29\u001b[0;31m \u001b[0;32mfrom\u001b[0m \u001b[0mcustomlib\u001b[0m \u001b[0;32mimport\u001b[0m \u001b[0mCustomPCA\u001b[0m \u001b[0;32mas\u001b[0m \u001b[0mCustomPCA\u001b[0m\u001b[0;34m\u001b[0m\u001b[0;34m\u001b[0m\u001b[0m\n\u001b[0m\u001b[1;32m     30\u001b[0m \u001b[0;32mfrom\u001b[0m \u001b[0mcustomlib\u001b[0m \u001b[0;32mimport\u001b[0m \u001b[0mplotting\u001b[0m \u001b[0;32mas\u001b[0m \u001b[0mpl\u001b[0m\u001b[0;34m\u001b[0m\u001b[0;34m\u001b[0m\u001b[0m\n",
            "\u001b[0;31mModuleNotFoundError\u001b[0m: No module named 'customlib'",
            "",
            "\u001b[0;31m---------------------------------------------------------------------------\u001b[0;32m\nNOTE: If your import is failing due to a missing package, you can\nmanually install dependencies using either !pip or !apt.\n\nTo view examples of installing some common dependencies, click the\n\"Open Examples\" button below.\n\u001b[0;31m---------------------------------------------------------------------------\u001b[0m\n"
          ],
          "errorDetails": {
            "actions": [
              {
                "action": "open_url",
                "actionText": "Open Examples",
                "url": "/notebooks/snippets/importing_libraries.ipynb"
              }
            ]
          }
        }
      ],
      "source": [
        "# standard imports\n",
        "import numpy as np\n",
        "\n",
        "\n",
        "# sklearn\n",
        "import sklearn\n",
        "from sklearn.decomposition import PCA\n",
        "from sklearn.datasets import fetch_openml\n",
        "from sklearn.model_selection import train_test_split\n",
        "from sklearn.linear_model import LogisticRegression\n",
        "from sklearn.metrics import accuracy_score\n",
        "\n",
        "\n",
        "# other useful imports\n",
        "from importlib import reload\n",
        "from time import time\n",
        "\n",
        "\n",
        "# imports for plotting\n",
        "import matplotlib.pyplot as plt\n",
        "\n",
        "\n",
        "#ignore warnings\n",
        "import warnings\n",
        "warnings.filterwarnings(action='ignore')\n",
        "\n",
        "\n",
        "# custom imports\n",
        "from customlib import CustomPCA as CustomPCA\n",
        "from customlib import plotting as pl\n"
      ]
    }
  ]
}